{
 "cells": [
  {
   "cell_type": "markdown",
   "id": "9f762280",
   "metadata": {},
   "source": [
    "# 스타벅스 데이터"
   ]
  },
  {
   "cell_type": "code",
   "execution_count": 5,
   "id": "0ec9142e",
   "metadata": {},
   "outputs": [
    {
     "data": {
      "text/plain": [
       "'/Users/daniel_choi/opt/anaconda3/lib/python3.9/site-packages/chromedriver_autoinstaller/108/chromedriver'"
      ]
     },
     "execution_count": 5,
     "metadata": {},
     "output_type": "execute_result"
    }
   ],
   "source": [
    "# Starbucks data\n",
    "\n",
    "from selenium import webdriver\n",
    "from bs4 import BeautifulSoup\n",
    "from selenium.webdriver.common.by import By\n",
    "from tqdm import tqdm\n",
    "from selenium.webdriver.common.keys import Keys\n",
    "from selenium.webdriver.support.ui import WebDriverWait\n",
    "from selenium.webdriver.support import expected_conditions as EC\n",
    "\n",
    "import chromedriver_autoinstaller\n",
    "import pandas as pd\n",
    "import time\n",
    "import re\n",
    "\n",
    "# chrome driver 생성\n",
    "chromedriver_autoinstaller.install()"
   ]
  },
  {
   "cell_type": "code",
   "execution_count": 8,
   "id": "8de440e8",
   "metadata": {},
   "outputs": [
    {
     "name": "stderr",
     "output_type": "stream",
     "text": [
      "/var/folders/5g/z1vg08pd2_97rjb0w3yzhl4m0000gn/T/ipykernel_19161/1895378607.py:2: DeprecationWarning: executable_path has been deprecated, please pass in a Service object\n",
      "  driver = webdriver.Chrome('/Users/daniel_choi/opt/anaconda3/lib/python3.9/site-packages/chromedriver_autoinstaller/108/chromedriver')\n"
     ]
    }
   ],
   "source": [
    "url = 'https://www.starbucks.co.kr/store/store_map.do'\n",
    "# webdriver.Chrome의 인자로 들어갈 값은 컴퓨터마다 달라질 수 있다. 가장 처음의 셀을 실행했을때\n",
    "# chrome driver 생성을 통해서 비롯되는 out값을 인자에 입력해야한다.\n",
    "driver = webdriver.Chrome('/Users/daniel_choi/opt/anaconda3/lib/python3.9/site-packages/chromedriver_autoinstaller/108/chromedriver')\n",
    "driver.get(url)"
   ]
  },
  {
   "cell_type": "code",
   "execution_count": 7,
   "id": "77d88bce",
   "metadata": {},
   "outputs": [],
   "source": [
    "# 비는 부분이 없도록 최대화\n",
    "driver.maximize_window()"
   ]
  },
  {
   "cell_type": "code",
   "execution_count": null,
   "id": "8a93bdeb",
   "metadata": {},
   "outputs": [],
   "source": [
    "# 매장찾기 - 지역 검색 탭 클릭\n",
    "driver.find_elements(By.CSS_SELECTOR, 'header.loca_search > h3 > a')[0].click()"
   ]
  },
  {
   "cell_type": "code",
   "execution_count": null,
   "id": "7784478f",
   "metadata": {},
   "outputs": [],
   "source": [
    "# 지역 검색 중 \"서울\" 선택\n",
    "\n",
    "# 확인 코드\n",
    "# driver.find_elements(By.CSS_SELECTOR, 'ul.sido_arae_box > li')[0].text\n",
    "# '서울'\n",
    "driver.find_elements(By.CSS_SELECTOR, 'ul.sido_arae_box > li')[0].click()"
   ]
  },
  {
   "cell_type": "code",
   "execution_count": null,
   "id": "8198bfbc",
   "metadata": {},
   "outputs": [],
   "source": [
    "# 서울 에서 \"전체\"클릭\n",
    "\n",
    "# 확인코드\n",
    "# driver.find_elements(By.CSS_SELECTOR, 'ul.gugun_arae_box > li')[0].text\n",
    "# '전체'\n",
    "driver.find_elements(By.CSS_SELECTOR, 'ul.gugun_arae_box > li')[0].click()"
   ]
  },
  {
   "cell_type": "code",
   "execution_count": null,
   "id": "84cca40f",
   "metadata": {},
   "outputs": [],
   "source": [
    "# 서울 전체 검색결과가 22.07.20 기준으로 585개다.\n",
    "\n",
    "# 확인 1 (갯수)\n",
    "# len(driver.find_elements(By.CSS_SELECTOR, 'ul.quickSearchResultBoxSidoGugun > li'))\n",
    "# 585\n",
    "\n",
    "# 확인 2 (처음 text)\n",
    "# driver.find_elements(By.CSS_SELECTOR, 'ul.quickSearchResultBoxSidoGugun > li')[0].text\n",
    "# '역삼아레나빌딩\\n서울특별시 강남구 언주로 425 (역삼동)\\n1522-3232\\n리저브 매장 2번'\n",
    "\n",
    "# 확인 3 (마지막 text)\n",
    "# driver.find_elements(By.CSS_SELECTOR, 'ul.quickSearchResultBoxSidoGugun > li')[-1].text\n",
    "# '' 라고 나온다. 뭔가 잘못되었다.\n",
    "\n",
    "# 확인 4 (마지막 text)를 체크했을 때, 확인 3이 안먹어서\n",
    "# driver.find_elements(By.CSS_SELECTOR, 'ul.quickSearchResultBoxSidoGugun > li')[184].text\n",
    "# 페이지에서 보이질 않기때문에 긁어올 수 없는것일까? 184번 인덱스 (185번째)의 것도 ''로 표기가 된다.\n",
    "\n",
    "# 확인 5\n",
    "# driver는 보이는 페이지에 국한해서 나올 수 있기 때문에 Beautifulsoup로 시도해주자.\n",
    "html = driver.page_source\n",
    "soup = BeautifulSoup(html, 'html.parser')\n",
    "len(soup.select('ul.quickSearchResultBoxSidoGugun > li'))\n",
    "# 585\n",
    "main = soup.select('ul.quickSearchResultBoxSidoGugun > li')"
   ]
  },
  {
   "cell_type": "code",
   "execution_count": null,
   "id": "0fb58e2f",
   "metadata": {},
   "outputs": [],
   "source": [
    "main[-1]\n",
    "'''\n",
    "<li class=\"quickResultLstCon\" data-code=\"3801\" data-hlytag=\"null\" data-index=\"584\" data-lat=\"37.60170912407773\" data-long=\"127.07841136432036\" data-name=\"중화역\" data-storecd=\"1749\" style=\"background:#fff\"> <strong data-my_siren_order_store_yn=\"N\" data-name=\"중화역\" data-store=\"1749\" data-yn=\"N\">중화역  </strong> <p class=\"result_details\">서울특별시 중랑구 봉화산로 35 <br/>1522-3232</p> <i class=\"pin_general\">리저브 매장 2번</i></li>\n",
    "'''\n",
    "\n",
    "# ok 이걸로 진행하자. 0번 인덱스의 값도 이상없다."
   ]
  },
  {
   "cell_type": "code",
   "execution_count": null,
   "id": "591e5773",
   "metadata": {},
   "outputs": [],
   "source": [
    "# 정규표현식으로 내가 원하는 값을 제거해보려 했지만, 내가 원하는 값은 아니였다.\n",
    "# 즉, 코드는 여기선 별반 도움이 안되었다.\n",
    "\n",
    "def clean_text(inputString):\n",
    "  text_rmv = re.sub('[-=+,#/\\?:^.@*\\\"※~ㆍ!』‘|\\(\\)\\[\\]`\\'…》\\”\\“\\’·]', ' ', inputString)\n",
    "  return text_rmv"
   ]
  },
  {
   "cell_type": "code",
   "execution_count": null,
   "id": "8d8d95b4",
   "metadata": {},
   "outputs": [],
   "source": [
    "# 자료 긁어오기\n",
    "# 확인 1\n",
    "# 매장 명\n",
    "store = i('strong')[0].text.strip()\n",
    "# 매장 주소\n",
    "# 반복문 버전에 성공했지만, \n",
    "# 다음엔 연산을 줄이기 위해 다른 방법을 찾자.\n",
    "for i in main[0]('p')[0].text.split()[:-1]:\n",
    "    print(i, end=' ')\n",
    "\n",
    "# 매장 구\n",
    "gu = i('p')[0].text.split()[1]\n",
    "# 매장 전화 번호\n",
    "# 현재로써는 전화번호는 데이터상 중요하지 않다.\n",
    "# 하지만 반드시 얻어내자.\n",
    "# main[0]('p')[0].text.split()[-1:][0]\n",
    "# '(역삼동)1522-3232'\n",
    "\n",
    "# 매장 위도 (lat)\n",
    "lat = i['data-lat']\n",
    "# 매장 경도 (lng)\n",
    "lng = i['data-long']"
   ]
  },
  {
   "cell_type": "code",
   "execution_count": null,
   "id": "51677eca",
   "metadata": {},
   "outputs": [],
   "source": [
    "datas = []\n",
    "for i in tqdm(main):\n",
    "\n",
    "    # 자료 긁어오기\n",
    "    # 확인 1\n",
    "    # 매장 명\n",
    "    name = i('strong')[0].text.strip()\n",
    "    # 매장 주소\n",
    "    # 반복문 버전에 성공했지만, \n",
    "    # 다음엔 연산을 줄이기 위해 다른 방법을 찾자.\n",
    "\n",
    "\n",
    "    # address = [a for a in i('p')[0].text.split()[:-1]]\n",
    "    address = i('p')[0].text.replace('1522-3232', '')\n",
    "\n",
    "    gu = i('p')[0].text.split()[1]\n",
    "    # 매장 전화 번호\n",
    "    # 현재로써는 전화번호는 데이터상 중요하지 않다.\n",
    "    # 하지만 반드시 얻어내자.\n",
    "    # main[0]('p')[0].text.split()[-1:][0]\n",
    "    # '(역삼동)1522-3232'\n",
    "\n",
    "    # 매장 위도 (lat)\n",
    "    lat = i['data-lat']\n",
    "    # 매장 경도 (lng)\n",
    "    lng = i['data-long']\n",
    "\n",
    "    # pandas DataFrame을 위해서 이렇게 미리 지정하여 만들어 준다.\n",
    "    data = {\n",
    "        '매장이름':name,\n",
    "        '주소':address,\n",
    "        '구':gu,\n",
    "        '위도':lat,\n",
    "        '경도':lng,\n",
    "        '브랜드':'스타벅스'\n",
    "    }\n",
    "    datas.append(data)\n",
    "    \n",
    "print(datas)"
   ]
  },
  {
   "cell_type": "code",
   "execution_count": null,
   "id": "1cb2b88d",
   "metadata": {},
   "outputs": [],
   "source": [
    "# 주소 테스트 코드\n",
    "soup.select('div#mCSB_3_container > ul > li')[0]('p')[0].text[:-15]\n",
    "# '서울특별시 강남구 언주로 425'\n",
    "# 이게 올바르지 않다고 생각한다. 근본적으로 주소에 변동성이 많으면 이 코드는 무쓸모다.\n",
    "# 다음엔 좀 더 나은 방법을 찾아내자."
   ]
  },
  {
   "cell_type": "code",
   "execution_count": null,
   "id": "57e5b09a",
   "metadata": {},
   "outputs": [],
   "source": [
    "# 정리된 마무리 데이터를 엑셀화 시켜주기\n",
    "df_starbucks = pd.DataFrame(datas)\n",
    "df_starbucks.to_excel('starbucks_data.xlsx')"
   ]
  },
  {
   "cell_type": "code",
   "execution_count": null,
   "id": "95fb85be",
   "metadata": {},
   "outputs": [],
   "source": [
    "# 스타벅스로 볼일 다 봤으니 꺼주자.\n",
    "\n",
    "driver.quit()"
   ]
  },
  {
   "cell_type": "markdown",
   "id": "e8e9d02c",
   "metadata": {},
   "source": [
    "---"
   ]
  },
  {
   "cell_type": "markdown",
   "id": "9870c34c",
   "metadata": {},
   "source": [
    "# 이디야 데이터"
   ]
  },
  {
   "cell_type": "code",
   "execution_count": null,
   "id": "d57ec82d",
   "metadata": {},
   "outputs": [],
   "source": [
    "# Ediya Data\n",
    "\n",
    "# import 는 starbucks때 다 해왔으니깐 생략하고 진행 ㄱㄱ\n",
    "\n",
    "new_url = 'https://www.ediya.com/contents/find_store.html'\n",
    "# 이 변수가 이미 선언 되어있다 하더라도 같은 셀에 없으면 ConnectionRefusedError 뜨니깐 꼭 같이!\n",
    "driver = webdriver.Chrome('/Users/daniel_choi/miniforge3/envs/ds_study/lib/python3.10/site-packages/chromedriver_autoinstaller/103/chromedriver')\n",
    "driver.get(new_url)"
   ]
  },
  {
   "cell_type": "code",
   "execution_count": null,
   "id": "3b89fcb7",
   "metadata": {},
   "outputs": [],
   "source": [
    "# 화면 최대화\n",
    "driver.maximize_window()"
   ]
  },
  {
   "cell_type": "code",
   "execution_count": null,
   "id": "912707d7",
   "metadata": {},
   "outputs": [],
   "source": [
    "# '주소'클릭\n",
    "driver.find_elements(By.CSS_SELECTOR,'#contentWrap > div.contents > div > div.store_search_pop > ul > li:nth-child(2) > a')[0].click()"
   ]
  },
  {
   "cell_type": "code",
   "execution_count": null,
   "id": "625dc04a",
   "metadata": {},
   "outputs": [],
   "source": [
    "# 검색을 위한 구 리스트 만들기\n",
    "# 스타벅스 만들때 활용한 데이터 이용\n",
    "\n",
    "gu_list = df_starbucks.구.unique()"
   ]
  },
  {
   "cell_type": "code",
   "execution_count": null,
   "id": "2ea99b38",
   "metadata": {},
   "outputs": [],
   "source": [
    "html = driver.page_source\n",
    "soup = BeautifulSoup(html, 'html.parser')"
   ]
  },
  {
   "cell_type": "code",
   "execution_count": null,
   "id": "abb00b04",
   "metadata": {},
   "outputs": [],
   "source": [
    "# 이디야 지역 스크래핑을 위한 메인 변수 설정\n",
    "main = soup.select('ul#placesList >li.item')"
   ]
  },
  {
   "cell_type": "code",
   "execution_count": null,
   "id": "96df13c3",
   "metadata": {},
   "outputs": [],
   "source": [
    "# 각 구별로 매장 수가 다를테니, main을 재설정 해주는 것을 생각해보자.\n",
    "\n",
    "# 매장 명\n",
    "# main[0]('dt')[0].text\n",
    "\n",
    "# 매장 주소\n",
    "main[0]('dd')[0].text[:-6]\n",
    "# '서울 중랑구 망우로 460'"
   ]
  },
  {
   "cell_type": "code",
   "execution_count": null,
   "id": "fda0754d",
   "metadata": {},
   "outputs": [],
   "source": [
    "# 주소 값에다가 서울 각 구 이름 넣어서 빼주기\n",
    "\n",
    "# 테스트 1 (값 보내기)\n",
    "driver.find_elements(By.CSS_SELECTOR, '#keyword')[0].send_keys('강남구')\n",
    "\n",
    "# 테스트 2 (기존 값 지우기)\n",
    "driver.find_elements(By.CSS_SELECTOR, '#keyword')[0].clear()\n",
    "\n",
    "# 테스트 3 (엔터키 누르기)\n",
    "driver.find_elements(By.CSS_SELECTOR, '#keyword')[0].send_keys(Keys.ENTER)"
   ]
  },
  {
   "cell_type": "code",
   "execution_count": null,
   "id": "480dd7e6",
   "metadata": {},
   "outputs": [],
   "source": [
    "# 위도, 경도를 뽑아내고 싶었지만, 있는것도 있고 없는것도 있고 빈도가 듬성듬성해서 googlemap을 이용하기로 결정함\n",
    "main[1]('a')[0]['onclick']\n",
    "# \"panLatTo('127.094182772191','37.5896269575279','1');fnMove();\""
   ]
  },
  {
   "cell_type": "code",
   "execution_count": null,
   "id": "6e055caf",
   "metadata": {},
   "outputs": [],
   "source": [
    "# 반복문 테스트 (위도, 경도는 추후 넣기위해 나머지 3개)\n",
    "\n",
    "ediya_datas = []\n",
    "for i in tqdm(gu_list):\n",
    "        \n",
    "    # 기존 입력코드, 시도 실패.\n",
    "    # UnexpectedAlertPresentException: Alert Text: 검색 결과가 너무 많습니다. 범위를 좁혀 주시기 바랍니다.\n",
    "    # 라는 에러가 떴다. \n",
    "    # 따라서 대기시간, 입력시간에 문제가 있다고 판단하고, 이를 보완하기 위해서 코드를 변경해줬다.\n",
    "\n",
    "    '''\n",
    "    # (기존 값 지우기)\n",
    "    driver.find_elements(By.CSS_SELECTOR, '#keyword')[0].clear()\n",
    "    # (값 보내기)\n",
    "    driver.find_elements(By.CSS_SELECTOR, '#keyword')[0].send_keys(i)\n",
    "    # (엔터키 누르기)\n",
    "    driver.find_elements(By.CSS_SELECTOR, '#keyword')[0].send_keys(Keys.ENTER)\n",
    "    \n",
    "    time.sleep(2)\n",
    "    '''\n",
    "    \n",
    "    # 2차시도 기본\n",
    "    keyword_css = '#keyword'\n",
    "    \n",
    "    # 기존 값 지우기\n",
    "    WebDriverWait(driver, 10).until(EC.presence_of_element_located((By.CSS_SELECTOR, keyword_css))).clear()\n",
    "    \n",
    "    # 값 보내기\n",
    "    # 이게 이번의 핵심 코드였다. ****\n",
    "    WebDriverWait(driver, 10).until(EC.presence_of_element_located((By.CSS_SELECTOR, keyword_css))).send_keys(f'서울 {i}')\n",
    "    \n",
    "    # 엔터키 누르기\n",
    "    search_css = '#keyword_div > form > button'\n",
    "    WebDriverWait(driver, 10).until(EC.presence_of_element_located((By.CSS_SELECTOR, search_css))).click()\n",
    "        \n",
    "    \n",
    "    # 각 구마다 매장의 수가 다를테니, 재설정을 해준다.\n",
    "    main = soup.select('ul#placesList >li.item')\n",
    "    for a in main:\n",
    "        \n",
    "        # 매장 명\n",
    "        name = a('dt')[0].text\n",
    "\n",
    "        # 매장 주소\n",
    "        address = a('dd')[0].text\n",
    "        \n",
    "        # 구\n",
    "        gu = i\n",
    "        \n",
    "        data = {\n",
    "            '매장이름':name,\n",
    "            '주소':address,\n",
    "            '구':gu,\n",
    "            '브랜드':'이디야'\n",
    "        }\n",
    "        \n",
    "        ediya_datas.append(data)\n",
    "\n",
    "# 계속 해서 UnexpectedAlertPresentException: Alert Text: 검색 결과가 너무 많습니다. 범위를 좁혀 주시기 바랍니다.\n",
    "# 에러가 떴다. 구글링을 해봐도, 알럿을 무시하는 코드만 나오지, 그것은 내가 원하는것이 아니였다.\n",
    "# 값에 대해서 누락 없이 가져가고 싶으니깐, 그래서 유튜브 자료로 찾아서 참조했다.\n",
    "# 참조: https://www.youtube.com/watch?v=qobe7k1CmGc&t=1099s\n",
    "\n",
    "# 그외 참조는 selenium 공식 문서를 기반으로 만들어 지긴 했는데,\n",
    "# 유튜브에서 딱 하나지만 '강서구' 를 예로 들었을때, 부산에도 강서구, 서울에도 강서구가 있기 때문에 결과가 많이 나오는 것이였다.\n",
    "# 그래도 그렇지 그게 많으면 얼마나 많다고 그거에 출력을 제한하냐;"
   ]
  },
  {
   "cell_type": "code",
   "execution_count": null,
   "id": "8e527e68",
   "metadata": {},
   "outputs": [],
   "source": [
    "# len(ediya_datas)\n",
    "# 675\n",
    "\n",
    "ediya_datas[0]\n",
    "# {'매장이름': '금란망우점', '주소': '서울 중랑구 망우로 460', '구': '강남구'}"
   ]
  },
  {
   "cell_type": "code",
   "execution_count": null,
   "id": "146e77a2",
   "metadata": {},
   "outputs": [],
   "source": [
    "df_ediya = pd.DataFrame(ediya_datas)\n",
    "df_ediya.tail()"
   ]
  },
  {
   "cell_type": "markdown",
   "id": "f8ed8b26",
   "metadata": {},
   "source": [
    "---"
   ]
  },
  {
   "cell_type": "code",
   "execution_count": null,
   "id": "4ab61425",
   "metadata": {},
   "outputs": [],
   "source": [
    "# 이디야 위도, 경도 따주기"
   ]
  },
  {
   "cell_type": "code",
   "execution_count": null,
   "id": "5f056142",
   "metadata": {},
   "outputs": [],
   "source": [
    "# 이디야 위도, 경도 따주기\n",
    "\n",
    "# 먼저 위도, 경도 컬럼 생성해주기\n",
    "\n",
    "import numpy as np\n",
    "df_ediya['위도'] = np.nan\n",
    "df_ediya['경도'] = np.nan"
   ]
  },
  {
   "cell_type": "code",
   "execution_count": null,
   "id": "cafee29f",
   "metadata": {},
   "outputs": [],
   "source": [
    "# 이디야 위도, 경도 따주기\n",
    "\n",
    "import googlemaps\n",
    "google_key = '본인의 구글API 값 사용하세염'\n",
    "gmaps = googlemaps.Client(key=google_key)\n",
    "gmaps"
   ]
  },
  {
   "cell_type": "code",
   "execution_count": null,
   "id": "f8468a0f",
   "metadata": {},
   "outputs": [],
   "source": [
    "# 이 자료가 위도, 경도따기의 척도다.\n",
    "# 이 자료를 토대로 보게되면 위도 경도를 딸 수 있는 루트는 3가지가 있다.\n",
    "# key값으로는 geometry - location,\n",
    "# viewport - northeast,\n",
    "# southwest\n",
    "# 하지만 이중에서 가장 '짧게'나온 위도 경도는 geometry와 location으로 이루어진 것으로써, 이것을 사용하도록 한다.\n",
    "\n",
    "for idx, rows in df_ediya.iterrows():\n",
    "    # rows.주소\n",
    "    print(gmaps.geocode(rows.주소, language = 'ko'))\n",
    "    break\n",
    "    \n",
    "'''\n",
    "[{'address_components': [{'long_name': '４６０', 'short_name': '４６０', 'types': \n",
    "['premise']}, {'long_name': '망우로', 'short_name': '망우로', 'types': \n",
    "['political', 'sublocality', 'sublocality_level_4']}, {'long_name': '중랑구', 'short_name': \n",
    "'중랑구', 'types': ['political', 'sublocality', 'sublocality_level_1']}, \n",
    "{'long_name': '서울특별시', 'short_name': '서울특별시', 'types': ['administrative_area_level_1', 'political']}, \n",
    "{'long_name': '대한민국', 'short_name': 'KR', 'types': ['country', 'political']}, \n",
    "{'long_name': '131-230', 'short_name': '131-230', 'types': ['postal_code']}], \n",
    "'formatted_address': '대한민국 서울특별시 중랑구 망우로 460', 'geometry': {'location': \n",
    "{'lat': 37.6000681, 'lng': 127.1031213}, 'location_type': 'ROOFTOP', 'viewport': {'northeast': \n",
    "{'lat': 37.6014170802915, 'lng': 127.1044702802915}, 'southwest': {'lat': 37.59871911970851, \n",
    "'lng': 127.1017723197085}}}, 'place_id': 'ChIJ6U1Y60G6fDURcbe4fw-yeh8', 'plus_code': \n",
    "{'compound_code': 'J423+26 대한민국 서울특별시', 'global_code': '8Q99J423+26'}, 'types': ['street_address']}]\n",
    "'''"
   ]
  },
  {
   "cell_type": "code",
   "execution_count": null,
   "id": "fc929ce9",
   "metadata": {},
   "outputs": [],
   "source": [
    "# *** 위도 경도 딸때 등, 응용할때 정말 중요한 부분이다.\n",
    "\n",
    "for idx, rows in tqdm(df_ediya.iterrows()):\n",
    "    # rows.주소\n",
    "    # print(gmaps.geocode(rows.주소, language = 'ko'))\n",
    "    # break\n",
    "    \n",
    "    lat_lng = gmaps.geocode(rows.주소, language = 'ko')\n",
    "    # lat, lng을 포함하고 있는 딕셔너리의 key 값이 geometry니깐 이걸 써준다.\n",
    "    lat = lat_lng[0].get('geometry')['location']['lat']\n",
    "    # 37.6000681\n",
    "    lng = lat_lng[0].get('geometry')['location']['lng']\n",
    "    # 127.1031213\n",
    "    df_ediya.loc[idx, '위도'] = lat\n",
    "    df_ediya.loc[idx, '경도'] = lng"
   ]
  },
  {
   "cell_type": "code",
   "execution_count": null,
   "id": "f20789a5",
   "metadata": {},
   "outputs": [],
   "source": [
    "df_ediya\n",
    "\n",
    "'''\n",
    "\n",
    "\t매장이름\t주소\t구\t브랜드\t위도\t경도\n",
    "0\t금란망우점\t서울 중랑구 망우로 460 (망우동)\t강남구\t이디야\t37.600068\t127.103121\n",
    "1\t동원사거리점\t서울 중랑구 겸재로 240 (면목동, 행복오피스텔)\t강남구\t이디야\t37.589608\t127.094165\n",
    "2\t망우동점\t서울 중랑구 망우로 416 (망우동)\t강남구\t이디야\t37.599128\t127.098336\n",
    "3\t망우중앙점\t서울 중랑구 용마산로115길 109 (망우동, 한일써너스빌리젠시2단지)\t강남구\t이디야\t37.597644\t127.094346\n",
    "4\t먹골역점\t서울 중랑구 동일로157길 13 (묵동)\t강남구\t이디야\t37.609701\t127.076882\n",
    "...\t...\t...\t...\t...\t...\t...\n",
    "670\t중랑교차로점\t서울 중랑구 동일로 683 (면목동)\t중랑구\t이디야\t37.591397\t127.079841\n",
    "671\t중랑역점\t서울 중랑구 망우로 198 (상봉동)\t중랑구\t이디야\t37.593212\t127.074866\n",
    "672\t중화동점\t서울 중랑구 동일로129길 1 (중화동)\t중랑구\t이디야\t37.599293\t127.078348\n",
    "673\t중화역점\t서울 중랑구 동일로 815, 1층\t중랑구\t이디야\t37.603092\t127.078876\n",
    "674\t화랑대역점\t서울 중랑구 신내로25가길 2 (묵동, 현동학당)\t중랑구\t이디야\t37.619451\t127.084160\n",
    "675 rows × 6 columns\n",
    "'''"
   ]
  },
  {
   "cell_type": "code",
   "execution_count": null,
   "id": "735db01d",
   "metadata": {},
   "outputs": [],
   "source": [
    "# 정리된 마무리 데이터를 엑셀화 시켜주기\n",
    "df_ediya.to_excel('ediya.xlsx')"
   ]
  }
 ],
 "metadata": {
  "kernelspec": {
   "display_name": "Python 3 (ipykernel)",
   "language": "python",
   "name": "python3"
  },
  "language_info": {
   "codemirror_mode": {
    "name": "ipython",
    "version": 3
   },
   "file_extension": ".py",
   "mimetype": "text/x-python",
   "name": "python",
   "nbconvert_exporter": "python",
   "pygments_lexer": "ipython3",
   "version": "3.9.13"
  }
 },
 "nbformat": 4,
 "nbformat_minor": 5
}
